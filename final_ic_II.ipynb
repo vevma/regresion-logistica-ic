{
  "nbformat": 4,
  "nbformat_minor": 0,
  "metadata": {
    "colab": {
      "provenance": [],
      "mount_file_id": "12zY5q0rQgxkCxQ63m6fLrYAUi-gcwyV-",
      "authorship_tag": "ABX9TyObVkAA9EpITwI5aL31YZop",
      "include_colab_link": true
    },
    "kernelspec": {
      "name": "python3",
      "display_name": "Python 3"
    },
    "language_info": {
      "name": "python"
    }
  },
  "cells": [
    {
      "cell_type": "markdown",
      "metadata": {
        "id": "view-in-github",
        "colab_type": "text"
      },
      "source": [
        "<a href=\"https://colab.research.google.com/github/vevma/regresion-logistica-ic/blob/main/final_ic_II.ipynb\" target=\"_parent\"><img src=\"https://colab.research.google.com/assets/colab-badge.svg\" alt=\"Open In Colab\"/></a>"
      ]
    },
    {
      "cell_type": "markdown",
      "source": [
        "# Importar las librerías"
      ],
      "metadata": {
        "id": "OiR_tiaBOOHt"
      }
    },
    {
      "cell_type": "code",
      "execution_count": 1,
      "metadata": {
        "id": "9QGVaFZP1xE3"
      },
      "outputs": [],
      "source": [
        "import pandas as pd\n",
        "import numpy as np\n",
        "import matplotlib.pyplot as plt\n",
        "from sklearn.preprocessing import StandardScaler\n",
        "from sklearn.model_selection import train_test_split\n",
        "from sklearn.linear_model import LogisticRegression, LogisticRegressionCV\n",
        "from sklearn.metrics import (\n",
        "    confusion_matrix, accuracy_score, precision_score, recall_score)\n"
      ]
    },
    {
      "cell_type": "markdown",
      "source": [
        "# Importar datos "
      ],
      "metadata": {
        "id": "4G7eDEo9OUAI"
      }
    },
    {
      "cell_type": "code",
      "source": [
        "train = pd.read_csv('/content/drive/MyDrive/datasetshopping.csv')\n",
        "train.head(4)"
      ],
      "metadata": {
        "colab": {
          "base_uri": "https://localhost:8080/",
          "height": 239
        },
        "id": "COBiLUas2Oc8",
        "outputId": "2ab21206-628d-4614-cbb9-42b854e9edfe"
      },
      "execution_count": 2,
      "outputs": [
        {
          "output_type": "execute_result",
          "data": {
            "text/plain": [
              "   Administrative  Administrative_Duration  Informational  \\\n",
              "0               0                      0.0              0   \n",
              "1               0                      0.0              0   \n",
              "2               0                      0.0              0   \n",
              "3               0                      0.0              0   \n",
              "\n",
              "   Informational_Duration  ProductRelated  ProductRelated_Duration  \\\n",
              "0                     0.0               1                 0.000000   \n",
              "1                     0.0               2                64.000000   \n",
              "2                     0.0               1                 0.000000   \n",
              "3                     0.0               2                 2.666667   \n",
              "\n",
              "   BounceRates  ExitRates  PageValues  SpecialDay Month  OperatingSystems  \\\n",
              "0         0.20       0.20         0.0         0.0   Feb                 1   \n",
              "1         0.00       0.10         0.0         0.0   Feb                 2   \n",
              "2         0.20       0.20         0.0         0.0   Feb                 4   \n",
              "3         0.05       0.14         0.0         0.0   Feb                 3   \n",
              "\n",
              "   Browser  Region  TrafficType        VisitorType  Weekend  Revenue  \n",
              "0        1       1            1  Returning_Visitor    False    False  \n",
              "1        2       1            2  Returning_Visitor    False    False  \n",
              "2        1       9            3  Returning_Visitor    False    False  \n",
              "3        2       2            4  Returning_Visitor    False    False  "
            ],
            "text/html": [
              "\n",
              "  <div id=\"df-784bd89a-6058-4be6-95a5-79e0e8a6af73\">\n",
              "    <div class=\"colab-df-container\">\n",
              "      <div>\n",
              "<style scoped>\n",
              "    .dataframe tbody tr th:only-of-type {\n",
              "        vertical-align: middle;\n",
              "    }\n",
              "\n",
              "    .dataframe tbody tr th {\n",
              "        vertical-align: top;\n",
              "    }\n",
              "\n",
              "    .dataframe thead th {\n",
              "        text-align: right;\n",
              "    }\n",
              "</style>\n",
              "<table border=\"1\" class=\"dataframe\">\n",
              "  <thead>\n",
              "    <tr style=\"text-align: right;\">\n",
              "      <th></th>\n",
              "      <th>Administrative</th>\n",
              "      <th>Administrative_Duration</th>\n",
              "      <th>Informational</th>\n",
              "      <th>Informational_Duration</th>\n",
              "      <th>ProductRelated</th>\n",
              "      <th>ProductRelated_Duration</th>\n",
              "      <th>BounceRates</th>\n",
              "      <th>ExitRates</th>\n",
              "      <th>PageValues</th>\n",
              "      <th>SpecialDay</th>\n",
              "      <th>Month</th>\n",
              "      <th>OperatingSystems</th>\n",
              "      <th>Browser</th>\n",
              "      <th>Region</th>\n",
              "      <th>TrafficType</th>\n",
              "      <th>VisitorType</th>\n",
              "      <th>Weekend</th>\n",
              "      <th>Revenue</th>\n",
              "    </tr>\n",
              "  </thead>\n",
              "  <tbody>\n",
              "    <tr>\n",
              "      <th>0</th>\n",
              "      <td>0</td>\n",
              "      <td>0.0</td>\n",
              "      <td>0</td>\n",
              "      <td>0.0</td>\n",
              "      <td>1</td>\n",
              "      <td>0.000000</td>\n",
              "      <td>0.20</td>\n",
              "      <td>0.20</td>\n",
              "      <td>0.0</td>\n",
              "      <td>0.0</td>\n",
              "      <td>Feb</td>\n",
              "      <td>1</td>\n",
              "      <td>1</td>\n",
              "      <td>1</td>\n",
              "      <td>1</td>\n",
              "      <td>Returning_Visitor</td>\n",
              "      <td>False</td>\n",
              "      <td>False</td>\n",
              "    </tr>\n",
              "    <tr>\n",
              "      <th>1</th>\n",
              "      <td>0</td>\n",
              "      <td>0.0</td>\n",
              "      <td>0</td>\n",
              "      <td>0.0</td>\n",
              "      <td>2</td>\n",
              "      <td>64.000000</td>\n",
              "      <td>0.00</td>\n",
              "      <td>0.10</td>\n",
              "      <td>0.0</td>\n",
              "      <td>0.0</td>\n",
              "      <td>Feb</td>\n",
              "      <td>2</td>\n",
              "      <td>2</td>\n",
              "      <td>1</td>\n",
              "      <td>2</td>\n",
              "      <td>Returning_Visitor</td>\n",
              "      <td>False</td>\n",
              "      <td>False</td>\n",
              "    </tr>\n",
              "    <tr>\n",
              "      <th>2</th>\n",
              "      <td>0</td>\n",
              "      <td>0.0</td>\n",
              "      <td>0</td>\n",
              "      <td>0.0</td>\n",
              "      <td>1</td>\n",
              "      <td>0.000000</td>\n",
              "      <td>0.20</td>\n",
              "      <td>0.20</td>\n",
              "      <td>0.0</td>\n",
              "      <td>0.0</td>\n",
              "      <td>Feb</td>\n",
              "      <td>4</td>\n",
              "      <td>1</td>\n",
              "      <td>9</td>\n",
              "      <td>3</td>\n",
              "      <td>Returning_Visitor</td>\n",
              "      <td>False</td>\n",
              "      <td>False</td>\n",
              "    </tr>\n",
              "    <tr>\n",
              "      <th>3</th>\n",
              "      <td>0</td>\n",
              "      <td>0.0</td>\n",
              "      <td>0</td>\n",
              "      <td>0.0</td>\n",
              "      <td>2</td>\n",
              "      <td>2.666667</td>\n",
              "      <td>0.05</td>\n",
              "      <td>0.14</td>\n",
              "      <td>0.0</td>\n",
              "      <td>0.0</td>\n",
              "      <td>Feb</td>\n",
              "      <td>3</td>\n",
              "      <td>2</td>\n",
              "      <td>2</td>\n",
              "      <td>4</td>\n",
              "      <td>Returning_Visitor</td>\n",
              "      <td>False</td>\n",
              "      <td>False</td>\n",
              "    </tr>\n",
              "  </tbody>\n",
              "</table>\n",
              "</div>\n",
              "      <button class=\"colab-df-convert\" onclick=\"convertToInteractive('df-784bd89a-6058-4be6-95a5-79e0e8a6af73')\"\n",
              "              title=\"Convert this dataframe to an interactive table.\"\n",
              "              style=\"display:none;\">\n",
              "        \n",
              "  <svg xmlns=\"http://www.w3.org/2000/svg\" height=\"24px\"viewBox=\"0 0 24 24\"\n",
              "       width=\"24px\">\n",
              "    <path d=\"M0 0h24v24H0V0z\" fill=\"none\"/>\n",
              "    <path d=\"M18.56 5.44l.94 2.06.94-2.06 2.06-.94-2.06-.94-.94-2.06-.94 2.06-2.06.94zm-11 1L8.5 8.5l.94-2.06 2.06-.94-2.06-.94L8.5 2.5l-.94 2.06-2.06.94zm10 10l.94 2.06.94-2.06 2.06-.94-2.06-.94-.94-2.06-.94 2.06-2.06.94z\"/><path d=\"M17.41 7.96l-1.37-1.37c-.4-.4-.92-.59-1.43-.59-.52 0-1.04.2-1.43.59L10.3 9.45l-7.72 7.72c-.78.78-.78 2.05 0 2.83L4 21.41c.39.39.9.59 1.41.59.51 0 1.02-.2 1.41-.59l7.78-7.78 2.81-2.81c.8-.78.8-2.07 0-2.86zM5.41 20L4 18.59l7.72-7.72 1.47 1.35L5.41 20z\"/>\n",
              "  </svg>\n",
              "      </button>\n",
              "      \n",
              "  <style>\n",
              "    .colab-df-container {\n",
              "      display:flex;\n",
              "      flex-wrap:wrap;\n",
              "      gap: 12px;\n",
              "    }\n",
              "\n",
              "    .colab-df-convert {\n",
              "      background-color: #E8F0FE;\n",
              "      border: none;\n",
              "      border-radius: 50%;\n",
              "      cursor: pointer;\n",
              "      display: none;\n",
              "      fill: #1967D2;\n",
              "      height: 32px;\n",
              "      padding: 0 0 0 0;\n",
              "      width: 32px;\n",
              "    }\n",
              "\n",
              "    .colab-df-convert:hover {\n",
              "      background-color: #E2EBFA;\n",
              "      box-shadow: 0px 1px 2px rgba(60, 64, 67, 0.3), 0px 1px 3px 1px rgba(60, 64, 67, 0.15);\n",
              "      fill: #174EA6;\n",
              "    }\n",
              "\n",
              "    [theme=dark] .colab-df-convert {\n",
              "      background-color: #3B4455;\n",
              "      fill: #D2E3FC;\n",
              "    }\n",
              "\n",
              "    [theme=dark] .colab-df-convert:hover {\n",
              "      background-color: #434B5C;\n",
              "      box-shadow: 0px 1px 3px 1px rgba(0, 0, 0, 0.15);\n",
              "      filter: drop-shadow(0px 1px 2px rgba(0, 0, 0, 0.3));\n",
              "      fill: #FFFFFF;\n",
              "    }\n",
              "  </style>\n",
              "\n",
              "      <script>\n",
              "        const buttonEl =\n",
              "          document.querySelector('#df-784bd89a-6058-4be6-95a5-79e0e8a6af73 button.colab-df-convert');\n",
              "        buttonEl.style.display =\n",
              "          google.colab.kernel.accessAllowed ? 'block' : 'none';\n",
              "\n",
              "        async function convertToInteractive(key) {\n",
              "          const element = document.querySelector('#df-784bd89a-6058-4be6-95a5-79e0e8a6af73');\n",
              "          const dataTable =\n",
              "            await google.colab.kernel.invokeFunction('convertToInteractive',\n",
              "                                                     [key], {});\n",
              "          if (!dataTable) return;\n",
              "\n",
              "          const docLinkHtml = 'Like what you see? Visit the ' +\n",
              "            '<a target=\"_blank\" href=https://colab.research.google.com/notebooks/data_table.ipynb>data table notebook</a>'\n",
              "            + ' to learn more about interactive tables.';\n",
              "          element.innerHTML = '';\n",
              "          dataTable['output_type'] = 'display_data';\n",
              "          await google.colab.output.renderOutput(dataTable, element);\n",
              "          const docLink = document.createElement('div');\n",
              "          docLink.innerHTML = docLinkHtml;\n",
              "          element.appendChild(docLink);\n",
              "        }\n",
              "      </script>\n",
              "    </div>\n",
              "  </div>\n",
              "  "
            ]
          },
          "metadata": {},
          "execution_count": 2
        }
      ]
    },
    {
      "cell_type": "code",
      "source": [
        "print(train.keys())"
      ],
      "metadata": {
        "colab": {
          "base_uri": "https://localhost:8080/"
        },
        "id": "vg1BaPUFCCPr",
        "outputId": "6dcf5047-c170-4a1f-b446-cd6d3d018183"
      },
      "execution_count": 3,
      "outputs": [
        {
          "output_type": "stream",
          "name": "stdout",
          "text": [
            "Index(['Administrative', 'Administrative_Duration', 'Informational',\n",
            "       'Informational_Duration', 'ProductRelated', 'ProductRelated_Duration',\n",
            "       'BounceRates', 'ExitRates', 'PageValues', 'SpecialDay', 'Month',\n",
            "       'OperatingSystems', 'Browser', 'Region', 'TrafficType', 'VisitorType',\n",
            "       'Weekend', 'Revenue'],\n",
            "      dtype='object')\n"
          ]
        }
      ]
    },
    {
      "cell_type": "code",
      "source": [
        "print(train.describe())"
      ],
      "metadata": {
        "colab": {
          "base_uri": "https://localhost:8080/"
        },
        "id": "BOebw8JFCk5r",
        "outputId": "d38a9495-0216-4568-d158-1b8fffc1df39"
      },
      "execution_count": 4,
      "outputs": [
        {
          "output_type": "stream",
          "name": "stdout",
          "text": [
            "       Administrative  Administrative_Duration  Informational  \\\n",
            "count    12330.000000             12330.000000   12330.000000   \n",
            "mean         2.315166                80.818611       0.503569   \n",
            "std          3.321784               176.779107       1.270156   \n",
            "min          0.000000                 0.000000       0.000000   \n",
            "25%          0.000000                 0.000000       0.000000   \n",
            "50%          1.000000                 7.500000       0.000000   \n",
            "75%          4.000000                93.256250       0.000000   \n",
            "max         27.000000              3398.750000      24.000000   \n",
            "\n",
            "       Informational_Duration  ProductRelated  ProductRelated_Duration  \\\n",
            "count            12330.000000    12330.000000             12330.000000   \n",
            "mean                34.472398       31.731468              1194.746220   \n",
            "std                140.749294       44.475503              1913.669288   \n",
            "min                  0.000000        0.000000                 0.000000   \n",
            "25%                  0.000000        7.000000               184.137500   \n",
            "50%                  0.000000       18.000000               598.936905   \n",
            "75%                  0.000000       38.000000              1464.157214   \n",
            "max               2549.375000      705.000000             63973.522230   \n",
            "\n",
            "        BounceRates     ExitRates    PageValues    SpecialDay  \\\n",
            "count  12330.000000  12330.000000  12330.000000  12330.000000   \n",
            "mean       0.022191      0.043073      5.889258      0.061427   \n",
            "std        0.048488      0.048597     18.568437      0.198917   \n",
            "min        0.000000      0.000000      0.000000      0.000000   \n",
            "25%        0.000000      0.014286      0.000000      0.000000   \n",
            "50%        0.003112      0.025156      0.000000      0.000000   \n",
            "75%        0.016813      0.050000      0.000000      0.000000   \n",
            "max        0.200000      0.200000    361.763742      1.000000   \n",
            "\n",
            "       OperatingSystems       Browser        Region   TrafficType  \n",
            "count      12330.000000  12330.000000  12330.000000  12330.000000  \n",
            "mean           2.124006      2.357097      3.147364      4.069586  \n",
            "std            0.911325      1.717277      2.401591      4.025169  \n",
            "min            1.000000      1.000000      1.000000      1.000000  \n",
            "25%            2.000000      2.000000      1.000000      2.000000  \n",
            "50%            2.000000      2.000000      3.000000      2.000000  \n",
            "75%            3.000000      2.000000      4.000000      4.000000  \n",
            "max            8.000000     13.000000      9.000000     20.000000  \n"
          ]
        }
      ]
    },
    {
      "cell_type": "markdown",
      "source": [
        "# Estudio de datos de forma gráfica"
      ],
      "metadata": {
        "id": "Nd9usOlnPCLo"
      }
    },
    {
      "cell_type": "code",
      "source": [
        "pd.crosstab(train.Month, train.Revenue).plot(kind='bar')\n",
        "plt.title('Months and Revenue')\n",
        "plt.xlabel('Month')\n",
        "plt.ylabel('Revenue')\n",
        "plt.savefig('month_revenue')"
      ],
      "metadata": {
        "colab": {
          "base_uri": "https://localhost:8080/",
          "height": 307
        },
        "id": "twJoAAzlPGkW",
        "outputId": "8b64e80d-f754-45e3-8e07-155ff7297b8b"
      },
      "execution_count": 5,
      "outputs": [
        {
          "output_type": "display_data",
          "data": {
            "text/plain": [
              "<Figure size 432x288 with 1 Axes>"
            ],
            "image/png": "[encoded data removed]"
          },
          "metadata": {
            "needs_background": "light"
          }
        }
      ]
    },
    {
      "cell_type": "markdown",
      "source": [
        "# Nomalización de datos"
      ],
      "metadata": {
        "id": "5ag7LctgOfwx"
      }
    },
    {
      "cell_type": "code",
      "source": [
        "print(set(train.Month))\n",
        "\n",
        "months = {'Nov': 11, 'Sep': 9, 'Feb': 2, 'Jul': 7, 'Oct': 10, 'Dec': 12, 'Aug': 8, 'June': 6, 'Mar': 3, 'May': 5}\n",
        "train.Month = train.Month.map(months)\n",
        "\n",
        "print(set(train.Month))"
      ],
      "metadata": {
        "colab": {
          "base_uri": "https://localhost:8080/"
        },
        "id": "jUc6A8oeGm1a",
        "outputId": "8d343a86-66f3-4c0e-8376-5b9bc6c2a40d"
      },
      "execution_count": 6,
      "outputs": [
        {
          "output_type": "stream",
          "name": "stdout",
          "text": [
            "{'May', 'Feb', 'Oct', 'Dec', 'June', 'Mar', 'Jul', 'Sep', 'Aug', 'Nov'}\n",
            "{2, 3, 5, 6, 7, 8, 9, 10, 11, 12}\n"
          ]
        }
      ]
    },
    {
      "cell_type": "code",
      "source": [
        "print(set(train.VisitorType))\n",
        "\n",
        "visitors = {'New_Visitor': 0, 'Returning_Visitor': 1, 'Other': 0}\n",
        "train.VisitorType = train.VisitorType.map(visitors)\n",
        "\n",
        "print(set(train.VisitorType))"
      ],
      "metadata": {
        "colab": {
          "base_uri": "https://localhost:8080/"
        },
        "id": "HhuyDl77IdLE",
        "outputId": "932cd1d2-79fe-4aec-dce4-fcf2f0e1e4cb"
      },
      "execution_count": 7,
      "outputs": [
        {
          "output_type": "stream",
          "name": "stdout",
          "text": [
            "{'Other', 'Returning_Visitor', 'New_Visitor'}\n",
            "{0, 1}\n"
          ]
        }
      ]
    },
    {
      "cell_type": "markdown",
      "source": [
        "# Datos de entrenamiento y prueba"
      ],
      "metadata": {
        "id": "xswUVks2Or3J"
      }
    },
    {
      "cell_type": "code",
      "source": [
        "X = train.drop(columns=['Revenue'])\n",
        "y = train.Revenue"
      ],
      "metadata": {
        "id": "ow7zcfLpDkyP"
      },
      "execution_count": 8,
      "outputs": []
    },
    {
      "cell_type": "code",
      "source": [
        "X_train, X_test, y_train, y_test = train_test_split(X, y, test_size=.2)\n",
        "\n",
        "print(X_train)"
      ],
      "metadata": {
        "colab": {
          "base_uri": "https://localhost:8080/"
        },
        "id": "IJMfsRmfEddm",
        "outputId": "8d0fd179-d45f-40e7-e0ac-c5a9de091145"
      },
      "execution_count": 9,
      "outputs": [
        {
          "output_type": "stream",
          "name": "stdout",
          "text": [
            "       Administrative  Administrative_Duration  Informational  \\\n",
            "3868                0                 0.000000              0   \n",
            "11609               2               255.000000              0   \n",
            "11634               0                 0.000000              0   \n",
            "5656                2               194.900000              0   \n",
            "7352                0                 0.000000              0   \n",
            "...               ...                      ...            ...   \n",
            "6892                8               279.280000              0   \n",
            "8540                4                28.500000              0   \n",
            "9962                4               184.458333              1   \n",
            "9557                0                 0.000000              0   \n",
            "5306                0                 0.000000              0   \n",
            "\n",
            "       Informational_Duration  ProductRelated  ProductRelated_Duration  \\\n",
            "3868                 0.000000              50              1735.595238   \n",
            "11609                0.000000              10               173.433333   \n",
            "11634                0.000000              29              1073.295779   \n",
            "5656                 0.000000              14               227.333333   \n",
            "7352                 0.000000               7                71.600000   \n",
            "...                       ...             ...                      ...   \n",
            "6892                 0.000000              17               835.418095   \n",
            "8540                 0.000000              20               500.500000   \n",
            "9962                 8.166667              44              1398.390775   \n",
            "9557                 0.000000               5                 0.000000   \n",
            "5306                 0.000000              23               195.666667   \n",
            "\n",
            "       BounceRates  ExitRates  PageValues  SpecialDay  Month  \\\n",
            "3868      0.000000   0.008746    0.000000         0.2      5   \n",
            "11609     0.030000   0.025714    0.000000         0.0     12   \n",
            "11634     0.013793   0.017471    0.000000         0.0     12   \n",
            "5656      0.000000   0.009184    0.000000         0.0     11   \n",
            "7352      0.028571   0.071429    0.000000         0.0     11   \n",
            "...            ...        ...         ...         ...    ...   \n",
            "6892      0.000000   0.018571   35.891408         0.0      8   \n",
            "8540      0.000000   0.029825    0.000000         0.0     11   \n",
            "9962      0.017391   0.026403   10.573619         0.0     11   \n",
            "9557      0.200000   0.200000    0.000000         0.0     11   \n",
            "5306      0.050000   0.086364    0.000000         0.4      5   \n",
            "\n",
            "       OperatingSystems  Browser  Region  TrafficType  VisitorType  Weekend  \n",
            "3868                  2        2       3            1            1    False  \n",
            "11609                 3        2       1            1            1     True  \n",
            "11634                 1        1       1            3            1     True  \n",
            "5656                  1        1       4            3            1    False  \n",
            "7352                  1        1       9            4            1    False  \n",
            "...                 ...      ...     ...          ...          ...      ...  \n",
            "6892                  3        2       3            2            0    False  \n",
            "8540                  4        1       2            1            1     True  \n",
            "9962                  1        2       3            1            1     True  \n",
            "9557                  2        2       2            1            1    False  \n",
            "5306                  4        1       1            3            1    False  \n",
            "\n",
            "[9864 rows x 17 columns]\n"
          ]
        }
      ]
    },
    {
      "cell_type": "markdown",
      "source": [
        "# Escalar los datos"
      ],
      "metadata": {
        "id": "oMMDAanEOyyw"
      }
    },
    {
      "cell_type": "code",
      "source": [
        "scaler = StandardScaler()\n",
        "\n",
        "X_train = scaler.fit_transform(X_train)\n",
        "X_test = scaler.transform(X_test)\n",
        "\n",
        "print(X_train)"
      ],
      "metadata": {
        "colab": {
          "base_uri": "https://localhost:8080/"
        },
        "id": "0vRuSUDuDLx8",
        "outputId": "8348a0f0-47e8-4041-9f92-79756b10a9cc"
      },
      "execution_count": 10,
      "outputs": [
        {
          "output_type": "stream",
          "name": "stdout",
          "text": [
            "[[-0.70126814 -0.45590678 -0.39495145 ... -0.75820251  0.41075586\n",
            "  -0.55283398]\n",
            " [-0.10208161  0.96598158 -0.39495145 ... -0.75820251  0.41075586\n",
            "   1.8088613 ]\n",
            " [-0.70126814 -0.45590678 -0.39495145 ... -0.26498461  0.41075586\n",
            "   1.8088613 ]\n",
            " ...\n",
            " [ 0.49710492  0.57263893  0.38374155 ... -0.75820251  0.41075586\n",
            "   1.8088613 ]\n",
            " [-0.70126814 -0.45590678 -0.39495145 ... -0.75820251  0.41075586\n",
            "  -0.55283398]\n",
            " [-0.70126814 -0.45590678 -0.39495145 ... -0.26498461  0.41075586\n",
            "  -0.55283398]]\n"
          ]
        }
      ]
    },
    {
      "cell_type": "markdown",
      "source": [
        "# Entrenar el modelo"
      ],
      "metadata": {
        "id": "2uUk280YO3Zp"
      }
    },
    {
      "cell_type": "code",
      "source": [
        "model = LogisticRegression()\n",
        "\n",
        "model.fit(X_train, y_train)"
      ],
      "metadata": {
        "colab": {
          "base_uri": "https://localhost:8080/"
        },
        "id": "ZHgWNj_lJKYT",
        "outputId": "dd1b2e54-870c-4273-8197-8044296f1434"
      },
      "execution_count": 11,
      "outputs": [
        {
          "output_type": "execute_result",
          "data": {
            "text/plain": [
              "LogisticRegression()"
            ]
          },
          "metadata": {},
          "execution_count": 11
        }
      ]
    },
    {
      "cell_type": "code",
      "source": [
        "y_pred = model.predict(X_test)\n",
        "\n",
        "print(y_pred)"
      ],
      "metadata": {
        "colab": {
          "base_uri": "https://localhost:8080/"
        },
        "id": "oumLSwOdKMQO",
        "outputId": "75857476-556c-493c-fd87-de9f44372f41"
      },
      "execution_count": 12,
      "outputs": [
        {
          "output_type": "stream",
          "name": "stdout",
          "text": [
            "[False False False ... False False False]\n"
          ]
        }
      ]
    },
    {
      "cell_type": "markdown",
      "source": [
        "# Predecir el modelo"
      ],
      "metadata": {
        "id": "YAOxDbWWPhZ-"
      }
    },
    {
      "cell_type": "code",
      "source": [
        "matrix = confusion_matrix(y_test, y_pred)\n",
        "\n",
        "print('Matriz de Confusión:')\n",
        "print(matrix)"
      ],
      "metadata": {
        "colab": {
          "base_uri": "https://localhost:8080/"
        },
        "id": "vufpNHmnKr5A",
        "outputId": "32e73833-bfc1-4bfa-da12-4d49c3972ad0"
      },
      "execution_count": 13,
      "outputs": [
        {
          "output_type": "stream",
          "name": "stdout",
          "text": [
            "Matriz de Confusión:\n",
            "[[2062   41]\n",
            " [ 251  112]]\n"
          ]
        }
      ]
    },
    {
      "cell_type": "code",
      "source": [
        "precision = precision_score(y_test, y_pred)\n",
        "\n",
        "print('Precisión del modelo:')\n",
        "print(precision)"
      ],
      "metadata": {
        "colab": {
          "base_uri": "https://localhost:8080/"
        },
        "id": "RHZn_hpcLo5T",
        "outputId": "08ab06c1-e8f0-4c1e-b593-bd691fdbaa49"
      },
      "execution_count": 14,
      "outputs": [
        {
          "output_type": "stream",
          "name": "stdout",
          "text": [
            "Precisión del modelo:\n",
            "0.7320261437908496\n"
          ]
        }
      ]
    },
    {
      "cell_type": "code",
      "source": [
        "accuracy = accuracy_score(y_test, y_pred)\n",
        "\n",
        "print('Exactitud del modelo:')\n",
        "print(accuracy)"
      ],
      "metadata": {
        "colab": {
          "base_uri": "https://localhost:8080/"
        },
        "id": "Y68eoxK7L66i",
        "outputId": "fc996719-e7dd-426b-a2a8-ca224de88835"
      },
      "execution_count": 15,
      "outputs": [
        {
          "output_type": "stream",
          "name": "stdout",
          "text": [
            "Exactitud del modelo:\n",
            "0.8815896188158961\n"
          ]
        }
      ]
    }
  ]
}